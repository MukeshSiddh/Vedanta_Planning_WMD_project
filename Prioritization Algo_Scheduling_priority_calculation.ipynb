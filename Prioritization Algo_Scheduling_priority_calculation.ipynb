{
 "cells": [
  {
   "cell_type": "code",
   "execution_count": 1,
   "id": "5d49cd6b",
   "metadata": {},
   "outputs": [
    {
     "name": "stdout",
     "output_type": "stream",
     "text": [
      "Scheduling_priority added to Vedanta_job_data.xlsx\n"
     ]
    }
   ],
   "source": [
    "import pandas as pd\n",
    "\n",
    "# Define the get_scheduling_priority function\n",
    "def get_scheduling_priority(asset_criticality, urgency):\n",
    "    # Define the matrix\n",
    "    matrix = [\n",
    "        [3, 2, 1, 1],  # Urgency 1\n",
    "        [3, 3, 2, 2],  # Urgency 2\n",
    "        [4, 4, 3, 2],  # Urgency 3\n",
    "        [4, 4, 3, 3]   # Urgency 4\n",
    "    ]\n",
    "    \n",
    "    # Define the mapping of asset criticality\n",
    "    asset_map = {\"D\": 0, \"C\": 1, \"B\": 2, \"A\": 3}\n",
    "    \n",
    "    # Get the indices\n",
    "    row = urgency - 1\n",
    "    col = asset_map.get(asset_criticality, -1)  # Use get to avoid KeyError\n",
    "    \n",
    "    if col == -1:\n",
    "        raise ValueError(f\"Invalid asset_criticality: {asset_criticality}\")\n",
    "    \n",
    "    # Return the value from the matrix\n",
    "    return matrix[row][col]\n",
    "\n",
    "# Read the input Excel file\n",
    "input_file = 'Vedanta_job_data.xlsx'\n",
    "df = pd.read_excel(input_file)\n",
    "\n",
    "# Initialize the Scheduling_priority column\n",
    "df['Scheduling_priority'] = 0\n",
    "\n",
    "# Iterate over the DataFrame rows\n",
    "for i in range(len(df)):\n",
    "    asset_criticality = df.loc[i, 'Asset_criticality']\n",
    "    urgency = df.loc[i, 'Urgency']\n",
    "    df.loc[i, 'Scheduling_priority'] = get_scheduling_priority(asset_criticality, urgency)\n",
    "\n",
    "# Save the updated DataFrame to the same Excel file\n",
    "with pd.ExcelWriter(input_file, engine='openpyxl', mode='a') as writer:\n",
    "    df.to_excel(writer, sheet_name='WO_with_shceduling_priority', index=False, startrow=0, startcol=df.shape[1])\n",
    "\n",
    "print(f\"Scheduling_priority added to {input_file}\")\n"
   ]
  },
  {
   "cell_type": "markdown",
   "id": "9bb1fb43",
   "metadata": {},
   "source": [
    "# Add scheduling_priority column in the same sheet:"
   ]
  },
  {
   "cell_type": "code",
   "execution_count": 2,
   "id": "73c89ed7",
   "metadata": {},
   "outputs": [
    {
     "name": "stdout",
     "output_type": "stream",
     "text": [
      "Scheduling_priority added to the sheet WO_with_SchPr in Red2_July_W4_Plan.xlsx\n"
     ]
    }
   ],
   "source": [
    "import pandas as pd\n",
    "\n",
    "# Define the get_scheduling_priority function\n",
    "def get_scheduling_priority(asset_criticality, urgency):\n",
    "    # Define the matrix\n",
    "    matrix = [\n",
    "        [3, 2, 1, 1],  # Urgency 1\n",
    "        [3, 3, 2, 2],  # Urgency 2\n",
    "        [4, 4, 3, 2],  # Urgency 3\n",
    "        [4, 4, 3, 3]   # Urgency 4\n",
    "    ]\n",
    "    \n",
    "    # Define the mapping of asset criticality\n",
    "    asset_map = {\"D\": 0, \"C\": 1, \"B\": 2, \"A\": 3}\n",
    "    \n",
    "    # Get the indices\n",
    "    row = urgency - 1\n",
    "    col = asset_map.get(asset_criticality, -1)  # Use get to avoid KeyError\n",
    "    \n",
    "    if col == -1:\n",
    "        raise ValueError(f\"Invalid asset_criticality: {asset_criticality}\")\n",
    "    \n",
    "    # Return the value from the matrix\n",
    "    return matrix[row][col]\n",
    "\n",
    "# Read the input Excel file and the specific sheet\n",
    "input_file = 'Red2_July_W4_Plan.xlsx'\n",
    "sheet_name = 'WO_with_SchPr'\n",
    "df = pd.read_excel(input_file, sheet_name=sheet_name)\n",
    "\n",
    "# Initialize the Scheduling_priority column\n",
    "df['Scheduling_priority'] = 0\n",
    "\n",
    "# Iterate over the DataFrame rows\n",
    "for i in range(len(df)):\n",
    "    asset_criticality = df.loc[i, 'Asset_criticality']\n",
    "    urgency = df.loc[i, 'Urgency']\n",
    "    df.loc[i, 'Scheduling_priority'] = get_scheduling_priority(asset_criticality, urgency)\n",
    "\n",
    "# Save the updated DataFrame back to the same sheet\n",
    "with pd.ExcelWriter(input_file, engine='openpyxl', mode='a', if_sheet_exists='replace') as writer:\n",
    "    df.to_excel(writer, sheet_name=sheet_name, index=False)\n",
    "\n",
    "print(f\"Scheduling_priority added to the sheet {sheet_name} in {input_file}\")\n"
   ]
  },
  {
   "cell_type": "code",
   "execution_count": null,
   "id": "eb1b8ece",
   "metadata": {},
   "outputs": [],
   "source": []
  }
 ],
 "metadata": {
  "kernelspec": {
   "display_name": "Python 3 (ipykernel)",
   "language": "python",
   "name": "python3"
  },
  "language_info": {
   "codemirror_mode": {
    "name": "ipython",
    "version": 3
   },
   "file_extension": ".py",
   "mimetype": "text/x-python",
   "name": "python",
   "nbconvert_exporter": "python",
   "pygments_lexer": "ipython3",
   "version": "3.10.5"
  }
 },
 "nbformat": 4,
 "nbformat_minor": 5
}
